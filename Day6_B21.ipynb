{
 "cells": [
  {
   "cell_type": "code",
   "execution_count": null,
   "metadata": {},
   "outputs": [],
   "source": [
    "#continuation for loops\n",
    "\n",
    "for tempvar in mainvar:\n",
    "    print(tempvar)"
   ]
  },
  {
   "cell_type": "code",
   "execution_count": null,
   "metadata": {},
   "outputs": [],
   "source": []
  },
  {
   "cell_type": "code",
   "execution_count": 2,
   "metadata": {},
   "outputs": [],
   "source": [
    "students = ['hannan','mannan','gul','zain','rahman','raheem']"
   ]
  },
  {
   "cell_type": "code",
   "execution_count": 3,
   "metadata": {},
   "outputs": [
    {
     "name": "stdout",
     "output_type": "stream",
     "text": [
      "['hannan', 'mannan', 'gul', 'zain', 'rahman', 'raheem']\n"
     ]
    }
   ],
   "source": [
    "print(students)"
   ]
  },
  {
   "cell_type": "code",
   "execution_count": null,
   "metadata": {},
   "outputs": [],
   "source": [
    "#requirements:\n",
    "\n",
    "1. appreciating all of the above for sending the files.\n",
    "2. also i want to tell them that i will b looking forward to recieve their files"
   ]
  },
  {
   "cell_type": "code",
   "execution_count": null,
   "metadata": {},
   "outputs": [],
   "source": [
    "#it will be iterating through the list and will split them of the list"
   ]
  },
  {
   "cell_type": "code",
   "execution_count": 4,
   "metadata": {},
   "outputs": [
    {
     "name": "stdout",
     "output_type": "stream",
     "text": [
      "hannan\n",
      "mannan\n",
      "gul\n",
      "zain\n",
      "rahman\n",
      "raheem\n"
     ]
    }
   ],
   "source": [
    "for random in students:\n",
    "    print(random)"
   ]
  },
  {
   "cell_type": "code",
   "execution_count": 7,
   "metadata": {},
   "outputs": [
    {
     "name": "stdout",
     "output_type": "stream",
     "text": [
      "Keep up the good work, Hannan\n",
      "I am looking forward to recieve your files of today, Hannan\n",
      "Keep up the good work, Mannan\n",
      "I am looking forward to recieve your files of today, Mannan\n",
      "Keep up the good work, Gul\n",
      "I am looking forward to recieve your files of today, Gul\n",
      "Keep up the good work, Zain\n",
      "I am looking forward to recieve your files of today, Zain\n",
      "Keep up the good work, Rahman\n",
      "I am looking forward to recieve your files of today, Rahman\n",
      "Keep up the good work, Raheem\n",
      "I am looking forward to recieve your files of today, Raheem\n"
     ]
    }
   ],
   "source": [
    "#enhancement of the code\n",
    "\n",
    "for random in students:\n",
    "    print(f\"Keep up the good work, {random.title()}\")\n",
    "    print(f\"I am looking forward to recieve your files of today, {random.title()}\")"
   ]
  },
  {
   "cell_type": "code",
   "execution_count": null,
   "metadata": {},
   "outputs": [],
   "source": [
    "#presenting in a better way + genric message to all students"
   ]
  },
  {
   "cell_type": "code",
   "execution_count": 11,
   "metadata": {},
   "outputs": [
    {
     "name": "stdout",
     "output_type": "stream",
     "text": [
      "Keep up the good work, Hannan\n",
      "I am looking forward to recieve your files of today, Hannan\n",
      "\n",
      "thank you all for joining the session\n",
      "Keep up the good work, Mannan\n",
      "I am looking forward to recieve your files of today, Mannan\n",
      "\n",
      "thank you all for joining the session\n",
      "Keep up the good work, Gul\n",
      "I am looking forward to recieve your files of today, Gul\n",
      "\n",
      "thank you all for joining the session\n",
      "Keep up the good work, Zain\n",
      "I am looking forward to recieve your files of today, Zain\n",
      "\n",
      "thank you all for joining the session\n",
      "Keep up the good work, Rahman\n",
      "I am looking forward to recieve your files of today, Rahman\n",
      "\n",
      "thank you all for joining the session\n",
      "Keep up the good work, Raheem\n",
      "I am looking forward to recieve your files of today, Raheem\n",
      "\n",
      "thank you all for joining the session\n"
     ]
    }
   ],
   "source": [
    "for random in students:\n",
    "    print(f\"Keep up the good work, {random.title()}\")\n",
    "    print(f\"I am looking forward to recieve your files of today, {random.title()}\\n\")\n",
    "    \n",
    "    print('thank you all for joining the session')"
   ]
  },
  {
   "cell_type": "code",
   "execution_count": null,
   "metadata": {},
   "outputs": [],
   "source": []
  },
  {
   "cell_type": "code",
   "execution_count": null,
   "metadata": {},
   "outputs": [],
   "source": [
    "introduction to #if #else condition\n",
    "\n",
    "#if -else block\n",
    "#genral syntax of if else condition\n",
    "\n",
    "if x (conditional block):\n",
    "    print\n",
    "else:\n",
    "    print"
   ]
  },
  {
   "cell_type": "code",
   "execution_count": 12,
   "metadata": {},
   "outputs": [],
   "source": [
    "my_students = ['hannan','mannan','gul','zain','mahib','mayab']"
   ]
  },
  {
   "cell_type": "code",
   "execution_count": null,
   "metadata": {},
   "outputs": [],
   "source": [
    "#req: Mannan is coming ------> i want to print this in caps\n",
    "#req: for all others-----> lets print in title case"
   ]
  },
  {
   "cell_type": "code",
   "execution_count": 13,
   "metadata": {},
   "outputs": [
    {
     "name": "stdout",
     "output_type": "stream",
     "text": [
      "Hannan\n",
      "MANNAN\n",
      "Gul\n",
      "Zain\n",
      "Mahib\n",
      "Mayab\n"
     ]
    }
   ],
   "source": [
    "for x in my_students:\n",
    "    if x == 'mannan':\n",
    "        print(x.upper())\n",
    "    else:\n",
    "        print(x.title())"
   ]
  },
  {
   "cell_type": "code",
   "execution_count": null,
   "metadata": {},
   "outputs": [],
   "source": [
    "#intro to slicing of list:"
   ]
  },
  {
   "cell_type": "code",
   "execution_count": 14,
   "metadata": {},
   "outputs": [],
   "source": [
    "my_students = ['hannan','mannan','gul','zain','mahib','mayab']"
   ]
  },
  {
   "cell_type": "code",
   "execution_count": null,
   "metadata": {},
   "outputs": [],
   "source": [
    "#genral syntax of slicing ==>mainvar{startvalue:stopvalue:stepcount} #totally based up on the indexing"
   ]
  },
  {
   "cell_type": "code",
   "execution_count": null,
   "metadata": {},
   "outputs": [],
   "source": [
    "#req hannan and mannan in a single group.\n",
    "#last value is always exclusive"
   ]
  },
  {
   "cell_type": "code",
   "execution_count": 15,
   "metadata": {},
   "outputs": [
    {
     "name": "stdout",
     "output_type": "stream",
     "text": [
      "['hannan']\n"
     ]
    }
   ],
   "source": [
    "print(my_students[0:1])"
   ]
  },
  {
   "cell_type": "code",
   "execution_count": 16,
   "metadata": {},
   "outputs": [
    {
     "name": "stdout",
     "output_type": "stream",
     "text": [
      "['hannan', 'mannan']\n"
     ]
    }
   ],
   "source": [
    "print(my_students[0:2])"
   ]
  },
  {
   "cell_type": "code",
   "execution_count": 17,
   "metadata": {},
   "outputs": [
    {
     "name": "stdout",
     "output_type": "stream",
     "text": [
      "['gul', 'zain']\n"
     ]
    }
   ],
   "source": [
    "print(my_students[2:4])"
   ]
  },
  {
   "cell_type": "code",
   "execution_count": null,
   "metadata": {},
   "outputs": [],
   "source": []
  }
 ],
 "metadata": {
  "kernelspec": {
   "display_name": "Python 3",
   "language": "python",
   "name": "python3"
  },
  "language_info": {
   "codemirror_mode": {
    "name": "ipython",
    "version": 3
   },
   "file_extension": ".py",
   "mimetype": "text/x-python",
   "name": "python",
   "nbconvert_exporter": "python",
   "pygments_lexer": "ipython3",
   "version": "3.7.6"
  }
 },
 "nbformat": 4,
 "nbformat_minor": 4
}
